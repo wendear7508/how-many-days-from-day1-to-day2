{
 "cells": [
  {
   "cell_type": "code",
   "execution_count": 59,
   "metadata": {},
   "outputs": [],
   "source": [
    "def days_gap(a,b):\n",
    "    '''\n",
    "    a,b are all dates in string format. E.g.'20130701'\n",
    "    a should be a date before b.\n",
    "    '''    \n",
    "    # 判断两个年份前后顺序\n",
    "    \n",
    "    if int(a)-int(b)>=0:\n",
    "        print('a should be a date before b.')\n",
    "        return\n",
    "        \n",
    "    a_year = int(a[:4])\n",
    "    a_month = int(a[4:6])\n",
    "    a_day = int(a[6:])\n",
    "    \n",
    "    \n",
    "    b_year = int(b[:4])\n",
    "    b_month = int(b[4:6])\n",
    "    b_day = int(b[6:])\n",
    "    \n",
    "    if a_month < 1 or a_month >12 or b_month < 1 or b_month >12:\n",
    "        return('month should be no less than 1 and no more than 12.')\n",
    "    if a_day < 1 or a_day > days_of_month(a[:6]) or b_day < 1 or b_day > days_of_month(b[:6]):\n",
    "        return('there is no this day in this month.')\n",
    "    \n",
    "    # 求b-a对应年月日的差
    "    year_gap = (b_year - a_year)*365
    
    "    # 如果a是闰年，且是3月1日之前，则year_gap加一天；否则不变，因为3月1日后，闰年和平年天数一样
    "    if leap_year(a_year) and a_month < 3:
    "    year_gap += 1
    
    "    # 计算月份差
    "    month_31 = 0
    "    month_29 = 0
    "    month_28 = 0
    
    "    for month in range(min(a_month,b_month),max(a_month,b_month)):
    "        if days_of_month(str(b_year)+str(month)) == 31:
    "            month_31 += 1
    "        if days_of_month(str(b_year)+str(month)) == 29:
    "            month_29 += 1
    "        if days_of_month(str(b_year)+str(month)) == 28:
    "            month_28 += 1
    "    month_gap = (max(a_month,b_month) - min(a_month,b_month)) * 30 + 1 * month_31 - 1 * month_29 - 2 * month_28
    
    "    day_gap = b_day - a_day
    
    "    days_gap = (year_gap + month_gap + day_gap) if b_month >= a_month else (year_gap - month_gap + day_gap)
 
    "    return days_gap
     ]
    },
    {
   "cell_type": "code",
   "execution_count": 1,
   "metadata": {},
   "outputs": [],
   "source": [
    "# 求是否闰年：:能被4整除但不能被100整除 或 能被400整除\n",
    "def leap_year(a):\n",
    "    '''\n",
    "    a is a year in string format. E.g.'2013'\n",
    "    '''\n",
    "    a = int(a)\n",
    "    if a%4 == 0 and a%100 != 0:\n",
    "        return True\n",
    "    if a%400 == 0:\n",
    "        return True"
   ]
  },
  {
   "cell_type": "code",
   "execution_count": 18,
   "metadata": {},
   "outputs": [],
   "source": [
    "def days_of_month(a):\n",
    "    '''\n",
    "    a is a month in string format. E.g.'201307'\n",
    "    '''\n",
    "    a_year = a[:4]\n",
    "    a_month = int(a[4:])\n",
    "    months = range(1,13) # 以月为键\n",
    "    n_days_leap = [31,29,31,30,31,30,31,31,30,31,30,31]\n",
    "    n_days_ord = [31,28,31,30,31,30,31,31,30,31,30,31]\n",
    "    if leap_year(a_year):\n",
    "        return dict(zip(months,n_days_leap))[a_month]\n",
    "    else:\n",
    "        return dict(zip(months,n_days_ord))[a_month]"
   ]
  },
  {
   "cell_type": "code",
   "execution_count": 69,
   "metadata": {},
   "outputs": [
    {
     "data": {
      "text/plain": [
       "'there is no this day in this month.'"
      ]
     },
     "execution_count": 69,
     "metadata": {},
     "output_type": "execute_result"
    }
   ],
   "source": [
    "days_gap('20030229','20040229')"
   ]
  },
  {
   "cell_type": "code",
   "execution_count": null,
   "metadata": {},
   "outputs": [],
   "source": []
  }
 ],
 "metadata": {
  "kernelspec": {
   "display_name": "Python 3",
   "language": "python",
   "name": "python3"
  },
  "language_info": {
   "codemirror_mode": {
    "name": "ipython",
    "version": 3
   },
   "file_extension": ".py",
   "mimetype": "text/x-python",
   "name": "python",
   "nbconvert_exporter": "python",
   "pygments_lexer": "ipython3",
   "version": "3.5.4"
  }
 },
 "nbformat": 4,
 "nbformat_minor": 2
}
